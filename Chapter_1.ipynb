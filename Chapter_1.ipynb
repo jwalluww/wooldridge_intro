{
 "cells": [
  {
   "cell_type": "markdown",
   "id": "cea6c17a",
   "metadata": {},
   "source": [
    "1. i) Split the class randomly into two groups with one in a small class & one in a large class. ii) There could perhaps be less one on one attention in larger classes. iii) No, the teachers could be trained better in these settings; we don't have all the information.\n",
    "2. "
   ]
  },
  {
   "cell_type": "code",
   "execution_count": null,
   "id": "f4112fc6",
   "metadata": {},
   "outputs": [],
   "source": []
  }
 ],
 "metadata": {
  "kernelspec": {
   "display_name": "Python 3",
   "language": "python",
   "name": "python3"
  },
  "language_info": {
   "codemirror_mode": {
    "name": "ipython",
    "version": 3
   },
   "file_extension": ".py",
   "mimetype": "text/x-python",
   "name": "python",
   "nbconvert_exporter": "python",
   "pygments_lexer": "ipython3",
   "version": "3.8.8"
  }
 },
 "nbformat": 4,
 "nbformat_minor": 5
}
